{
 "cells": [
  {
   "attachments": {},
   "cell_type": "markdown",
   "metadata": {},
   "source": [
    "# Notes"
   ]
  },
  {
   "cell_type": "code",
   "execution_count": 2,
   "metadata": {},
   "outputs": [
    {
     "name": "stdout",
     "output_type": "stream",
     "text": [
      "2195647067760\n",
      "2195647067760\n"
     ]
    }
   ],
   "source": [
    "# self defined class): is muatble\n",
    "class ListNode():\n",
    "    def __init__(self, val=0, next=None):\n",
    "        self.val = val\n",
    "        self.next = next\n",
    "\n",
    "A = ListNode()\n",
    "print(id(A))\n",
    "B = ListNode()\n",
    "A.next = B\n",
    "print(id(A))\n",
    "# muatble does not mean not hashable\n",
    "# hashable \n",
    "hashmap = {}\n",
    "hashmap[A] = B"
   ]
  },
  {
   "cell_type": "code",
   "execution_count": 12,
   "metadata": {},
   "outputs": [
    {
     "name": "stdout",
     "output_type": "stream",
     "text": [
      "***mid****\n",
      "False\n",
      "True\n",
      "65\n",
      "\u001e\n"
     ]
    }
   ],
   "source": [
    "# Format string\n",
    "f = 3.14159\n",
    "s = \"mid\"\n",
    "print(\"{:*^10}\".format(s))\n",
    "# after : we can write formatting for the string\n",
    "# from left to right we can specify\n",
    "# fill char, alignment(<>^=), sign (+ - space), mini width .precision~maxwidth type(b binary, c char, d decimal)\n",
    "# o octal, x or X hexadecimal, f float, ..)\n",
    "# we would round up in format string\n",
    "print(\"a\" < \"A\")\n",
    "print(\"a\" < \"b\")\n",
    "# upper cases are all smaller than the lower cases\n",
    "# have a mind map of ABCD..abcd... (smaller to larger)\n",
    "# lexical order compares the string using the first different character and compare its lexcial order\n",
    "# useful function to get lexical order\n",
    "print(ord('A'))\n",
    "print(chr(30))"
   ]
  },
  {
   "cell_type": "code",
   "execution_count": 20,
   "metadata": {},
   "outputs": [],
   "source": [
    "# Python IO\n",
    "# the path format is like the following\n",
    "# \\\\ or / are all acceptable\n",
    "# myFile = open(\"E:\\\\CS\\\\CSResources\\\\CSOnlineCourses\\\\ps2\\\\words.txt\", 'r')\n",
    "myFile = open(\"e:/CS/CSResources/CSOnlineCourses/ps2/words.txt\", 'r')\n",
    "content = myFile.readline()\n",
    "# print(content)\n",
    "myFile.close() \n",
    "# myFile.readlines() returns each line as an element in a list\n",
    "# myFile.readline() return the whole line as an string\n",
    "words = content.split()\n",
    "# print(words[0])\n",
    "# str.upper() returns a string with all uppercase\n",
    "# write to file\n",
    "output = open(\"out.txt\", 'w')\n",
    "for word in words:\n",
    "    output.write(word)\n",
    "    output.write(\" \")\n",
    "    # print(word, file=output) # you can even do this\n",
    "    # the file here do need to be a open\n",
    "output.close()\n",
    "\n",
    "\n",
    "# write function would overwrite the original file "
   ]
  },
  {
   "cell_type": "code",
   "execution_count": 5,
   "metadata": {},
   "outputs": [
    {
     "name": "stdout",
     "output_type": "stream",
     "text": [
      "5\n",
      "0.8465897469902564\n",
      "4.512627271728492\n",
      "['dog']\n",
      "['cat', 'dog', 'banana', 'apple']\n",
      "['apple', 'dog', 'banana', 'cat']\n"
     ]
    }
   ],
   "source": [
    "# randomness\n",
    "import random\n",
    "# random.seed(233) this line can make sure each output is the same\n",
    "print(random.randint(1,10))\n",
    "print(random.random()) # generates a number between 1 and 0\n",
    "# we can do the trick of multiplying and adding to create a uniform distribution\n",
    "print(10 * random.random())\n",
    "myList = ['apple', 'banana', 'cat', 'dog']\n",
    "print(random.choices(myList, weights=[1,2,3,4],k=1))\n",
    "# random inplace shuffle\n",
    "random.shuffle(myList)\n",
    "print(myList)\n",
    "# get a new shuffle copy\n",
    "print(random.sample(myList, k=len(myList)))"
   ]
  },
  {
   "cell_type": "markdown",
   "metadata": {},
   "source": [
    "## Naming Conventions of Python\n",
    "variables: my_list, my_dict  \n",
    "functions: convert_to_binary()  \n",
    "class: ListNode()  \n",
    "module: cell_labeling_tool  "
   ]
  }
 ],
 "metadata": {
  "kernelspec": {
   "display_name": "Python 3.10.4 64-bit",
   "language": "python",
   "name": "python3"
  },
  "language_info": {
   "codemirror_mode": {
    "name": "ipython",
    "version": 3
   },
   "file_extension": ".py",
   "mimetype": "text/x-python",
   "name": "python",
   "nbconvert_exporter": "python",
   "pygments_lexer": "ipython3",
   "version": "3.10.4"
  },
  "orig_nbformat": 4,
  "vscode": {
   "interpreter": {
    "hash": "65350724d74eb931ed286c433ed26f6a274369bf749a12d5ef6ed8f91b05f38e"
   }
  }
 },
 "nbformat": 4,
 "nbformat_minor": 2
}
