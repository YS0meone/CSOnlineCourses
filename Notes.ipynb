{
 "cells": [
  {
   "attachments": {},
   "cell_type": "markdown",
   "metadata": {},
   "source": [
    "# Notes"
   ]
  },
  {
   "cell_type": "code",
   "execution_count": 2,
   "metadata": {},
   "outputs": [
    {
     "name": "stdout",
     "output_type": "stream",
     "text": [
      "2195647067760\n",
      "2195647067760\n"
     ]
    }
   ],
   "source": [
    "# self defined class): is muatble\n",
    "class ListNode():\n",
    "    def __init__(self, val=0, next=None):\n",
    "        self.val = val\n",
    "        self.next = next\n",
    "\n",
    "A = ListNode()\n",
    "print(id(A))\n",
    "B = ListNode()\n",
    "A.next = B\n",
    "print(id(A))\n",
    "# muatble does not mean not hashable\n",
    "# hashable \n",
    "hashmap = {}\n",
    "hashmap[A] = B"
   ]
  },
  {
   "cell_type": "code",
   "execution_count": 4,
   "metadata": {},
   "outputs": [
    {
     "name": "stdout",
     "output_type": "stream",
     "text": [
      "***mid****\n",
      "False\n",
      "True\n",
      "65\n",
      "\u001e\n",
      "example\n",
      ".example.\n",
      "a_p_ledfs\n"
     ]
    }
   ],
   "source": [
    "# Format string\n",
    "f = 3.14159\n",
    "s = \"mid\"\n",
    "print(\"{:*^10}\".format(s))\n",
    "# after : we can write formatting for the string\n",
    "# from left to right we can specify\n",
    "# fill char, alignment(<>^=), sign (+ - space), mini width .precision~maxwidth type(b binary, c char, d decimal)\n",
    "# o octal, x or X hexadecimal, f float, ..)\n",
    "# we would round up in format string\n",
    "print(\"a\" < \"A\")\n",
    "print(\"a\" < \"b\")\n",
    "# upper cases are all smaller than the lower cases\n",
    "# have a mind map of ABCD..abcd... (smaller to larger)\n",
    "# lexical order compares the string using the first different character and compare its lexcial order\n",
    "# useful function to get lexical order\n",
    "print(ord('A'))\n",
    "print(chr(30))\n",
    "# strip only strip the leading and trailing part of the string\n",
    "# the argument of the strip is refered as a set of strings\n",
    "# all of the would be removed from the front and end until first character that is not in set\n",
    "s = \"   example   \"\n",
    "print(s.strip())\n",
    "s = \"www.example.com\"\n",
    "print(s.strip(\"wxacom\"))\n",
    "# to remove whitespace of a string\n",
    "s =\"a_p_ l e dfs \"\n",
    "print(\"\".join(s.split()))\n",
    "# strip that takes no arguments takes away whitespace\n",
    "# whitespace in python is tab space and cartrigen return"
   ]
  },
  {
   "cell_type": "code",
   "execution_count": 20,
   "metadata": {},
   "outputs": [],
   "source": [
    "# Python IO\n",
    "# the path format is like the following\n",
    "# \\\\ or / are all acceptable\n",
    "# myFile = open(\"E:\\\\CS\\\\CSResources\\\\CSOnlineCourses\\\\ps2\\\\words.txt\", 'r')\n",
    "myFile = open(\"e:/CS/CSResources/CSOnlineCourses/ps2/words.txt\", 'r')\n",
    "content = myFile.readline()\n",
    "# print(content)\n",
    "myFile.close() \n",
    "# myFile.readlines() returns each line as an element in a list\n",
    "# myFile.readline() return the whole line as an string\n",
    "words = content.split()\n",
    "# print(words[0])\n",
    "# str.upper() returns a string with all uppercase\n",
    "# write to file\n",
    "output = open(\"out.txt\", 'w')\n",
    "for word in words:\n",
    "    output.write(word)\n",
    "    output.write(\" \")\n",
    "    # print(word, file=output) # you can even do this\n",
    "    # the file here do need to be a open\n",
    "output.close()\n",
    "\n",
    "\n",
    "# write function would overwrite the original file "
   ]
  },
  {
   "cell_type": "code",
   "execution_count": 5,
   "metadata": {},
   "outputs": [
    {
     "name": "stdout",
     "output_type": "stream",
     "text": [
      "5\n",
      "0.8465897469902564\n",
      "4.512627271728492\n",
      "['dog']\n",
      "['cat', 'dog', 'banana', 'apple']\n",
      "['apple', 'dog', 'banana', 'cat']\n"
     ]
    }
   ],
   "source": [
    "# randomness\n",
    "import random\n",
    "# random.seed(233) this line can make sure each output is the same\n",
    "print(random.randint(1,10))\n",
    "print(random.random()) # generates a number between 1 and 0\n",
    "# we can do the trick of multiplying and adding to create a uniform distribution\n",
    "print(10 * random.random())\n",
    "myList = ['apple', 'banana', 'cat', 'dog']\n",
    "print(random.choices(myList, weights=[1,2,3,4],k=1))\n",
    "# random inplace shuffle\n",
    "random.shuffle(myList)\n",
    "print(myList)\n",
    "# get a new shuffle copy\n",
    "print(random.sample(myList, k=len(myList)))"
   ]
  },
  {
   "cell_type": "markdown",
   "metadata": {},
   "source": [
    "## Naming Conventions of Python\n",
    "variables: my_list, my_dict  \n",
    "functions: convert_to_binary()  \n",
    "class: ListNode()  \n",
    "module: cell_labeling_tool  "
   ]
  },
  {
   "cell_type": "code",
   "execution_count": 13,
   "metadata": {},
   "outputs": [
    {
     "name": "stdout",
     "output_type": "stream",
     "text": [
      "13.0\n",
      "10.0\n",
      "13.1416\n",
      "1\n",
      "-3\n",
      "0\n",
      "-4\n"
     ]
    }
   ],
   "source": [
    "# math module in python\n",
    "import math\n",
    "# round is not in math module\n",
    "print(round(13.14159,0))\n",
    "print(round(13.14159,-1))\n",
    "print(round(13.14159,4))\n",
    "# ceil and floor\n",
    "print(math.ceil(0.324))\n",
    "print(math.ceil(-3.2))\n",
    "print(math.floor(0.324))\n",
    "print(math.floor(-3.2))\n"
   ]
  },
  {
   "cell_type": "code",
   "execution_count": 6,
   "metadata": {},
   "outputs": [
    {
     "name": "stdout",
     "output_type": "stream",
     "text": [
      "0\n",
      "{'a': 2, 'n': 2, 'b': 3, 's': 2, 'd': 1}\n"
     ]
    }
   ],
   "source": [
    "# safeguard against key error\n",
    "hashmap = {\"a\": 1, \"b\": 2}\n",
    "print(hashmap.get(\"c\", 0)) # get return value to the key if exist\n",
    "# else the denoted default value\n",
    "# default value's default is None\n",
    "# A clever way to implement counter dictionary\n",
    "s = \"aannbbbssd\"\n",
    "counter = {}\n",
    "for c in s:\n",
    "    counter[c] = counter.get(c, 0) + 1\n",
    "print(counter)\n"
   ]
  },
  {
   "cell_type": "code",
   "execution_count": 13,
   "metadata": {},
   "outputs": [
    {
     "name": "stdout",
     "output_type": "stream",
     "text": [
      "Old List: [[1, 2, 3], [4, 5, 6], [7, 8, 9]]\n",
      "ID of Old List: 2626190660288\n",
      "New List: [[1, 2, 3], [4, 5, 6], [7, 8, 9]]\n",
      "ID of New List: 2626190660288\n",
      "\n",
      "Shallow Copy example:\n",
      "Old list: [[1, 1, 1], [2, 2, 2], [3, 3, 3], [4, 4, 4]]\n",
      "New list: [[1, 1, 1], [2, 2, 2], [3, 3, 3]]\n",
      "Old list: [[1, 1, 1], [2, 'a', 2], [3, 3, 3], [4, 4, 4]]\n",
      "New list: [[1, 1, 1], [2, 'a', 2], [3, 3, 3]]\n",
      "\n",
      "Deep Copy example:\n",
      "Old list: [[1, 1, 1], ['BB', 2, 2], [3, 3, 3]]\n",
      "New list: [[1, 1, 1], [2, 2, 2], [3, 3, 3]]\n"
     ]
    }
   ],
   "source": [
    "\n",
    "# Shallow and deep copy of python objects\n",
    "# in python = is not copy but give the same reference to another variable\n",
    "# (given the object is mutable)\n",
    "\n",
    "old_list = [[1, 2, 3], [4, 5, 6], [7, 8, 'a']]\n",
    "new_list = old_list\n",
    "\n",
    "new_list[2][2] = 9\n",
    "\n",
    "print('Old List:', old_list)\n",
    "print('ID of Old List:', id(old_list))\n",
    "\n",
    "print('New List:', new_list)\n",
    "print('ID of New List:', id(new_list))\n",
    "\n",
    "print()\n",
    "print(\"Shallow Copy example:\")\n",
    "import copy\n",
    "\n",
    "old_list = [[1, 1, 1], [2, 2, 2], [3, 3, 3]]\n",
    "new_list = copy.copy(old_list)\n",
    "\n",
    "old_list.append([4, 4, 4])\n",
    "\n",
    "print(\"Old list:\", old_list)\n",
    "print(\"New list:\", new_list)\n",
    "# however changing any subarray in old list would cause changes in new list \n",
    "old_list[1][1] = \"a\"\n",
    "print(\"Old list:\", old_list)\n",
    "print(\"New list:\", new_list)\n",
    "# this is where shallow means\n",
    "\n",
    "# this example illustrat deepcopy\n",
    "print()\n",
    "print(\"Deep Copy example:\")\n",
    "\n",
    "old_list = [[1, 1, 1], [2, 2, 2], [3, 3, 3]]\n",
    "new_list = copy.deepcopy(old_list)\n",
    "\n",
    "old_list[1][0] = 'BB'\n",
    "\n",
    "print(\"Old list:\", old_list)\n",
    "print(\"New list:\", new_list)\n",
    "\n",
    "# when copying dictionary we can just use dict.copy()\n",
    "# no need to import copy module however dict.copy() is a shallow copy\n"
   ]
  },
  {
   "cell_type": "code",
   "execution_count": 18,
   "metadata": {},
   "outputs": [
    {
     "name": "stdout",
     "output_type": "stream",
     "text": [
      "{'b': 2}\n",
      "0\n",
      "1\n",
      "{'b': 2}\n",
      "{'Tim': 1032, 'Nicky': '0128'}\n"
     ]
    }
   ],
   "source": [
    "# delete key from dictionary \n",
    "hashmap = {\"a\": 1, \"b\": 2}\n",
    "del hashmap['a']\n",
    "print(hashmap)\n",
    "\n",
    "hashmap = {\"a\": 1, \"b\": 2}\n",
    "print(hashmap.pop(\"c\", 0))\n",
    "print(hashmap.pop(\"a\",0))\n",
    "print(hashmap)\n",
    "\n",
    "# copy dictionary\n",
    "my_dict = {\"Tim\":1032, \"Nicky\":\"0128\"}\n",
    "new_dict = my_dict.copy()\n",
    "print(new_dict)"
   ]
  }
 ],
 "metadata": {
  "kernelspec": {
   "display_name": "Python 3.10.4 64-bit",
   "language": "python",
   "name": "python3"
  },
  "language_info": {
   "codemirror_mode": {
    "name": "ipython",
    "version": 3
   },
   "file_extension": ".py",
   "mimetype": "text/x-python",
   "name": "python",
   "nbconvert_exporter": "python",
   "pygments_lexer": "ipython3",
   "version": "3.10.4"
  },
  "orig_nbformat": 4,
  "vscode": {
   "interpreter": {
    "hash": "65350724d74eb931ed286c433ed26f6a274369bf749a12d5ef6ed8f91b05f38e"
   }
  }
 },
 "nbformat": 4,
 "nbformat_minor": 2
}
