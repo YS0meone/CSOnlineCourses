{
 "cells": [
  {
   "attachments": {},
   "cell_type": "markdown",
   "metadata": {},
   "source": [
    "# Notes"
   ]
  },
  {
   "cell_type": "code",
   "execution_count": 2,
   "metadata": {},
   "outputs": [
    {
     "name": "stdout",
     "output_type": "stream",
     "text": [
      "2195647067760\n",
      "2195647067760\n"
     ]
    }
   ],
   "source": [
    "# self defined class): is muatble\n",
    "class ListNode():\n",
    "    def __init__(self, val=0, next=None):\n",
    "        self.val = val\n",
    "        self.next = next\n",
    "\n",
    "A = ListNode()\n",
    "print(id(A))\n",
    "B = ListNode()\n",
    "A.next = B\n",
    "print(id(A))\n",
    "# muatble does not mean not hashable\n",
    "# hashable \n",
    "hashmap = {}\n",
    "hashmap[A] = B"
   ]
  },
  {
   "cell_type": "code",
   "execution_count": 13,
   "metadata": {},
   "outputs": [
    {
     "name": "stdout",
     "output_type": "stream",
     "text": [
      "3.1416\n",
      "***mid****\n"
     ]
    }
   ],
   "source": [
    "# Format string\n",
    "f = 3.14159\n",
    "print(\"{:-.4f}\".format(f))\n",
    "s = \"mid\"\n",
    "print(\"{:*^10}\".format(s))\n",
    "# after : we can write formatting for the string\n",
    "# from left to right we can specify\n",
    "# fill char, alignment(<>^=), sign (+ - space), mini width .precision~maxwidth type(b binary, c char, d decimal)\n",
    "# o octal, x or X hexadecimal, f float, ..)\n",
    "# we would round up in format string"
   ]
  },
  {
   "cell_type": "code",
   "execution_count": null,
   "metadata": {},
   "outputs": [],
   "source": []
  }
 ],
 "metadata": {
  "kernelspec": {
   "display_name": "Python 3",
   "language": "python",
   "name": "python3"
  },
  "language_info": {
   "codemirror_mode": {
    "name": "ipython",
    "version": 3
   },
   "file_extension": ".py",
   "mimetype": "text/x-python",
   "name": "python",
   "nbconvert_exporter": "python",
   "pygments_lexer": "ipython3",
   "version": "3.10.4"
  },
  "orig_nbformat": 4
 },
 "nbformat": 4,
 "nbformat_minor": 2
}
